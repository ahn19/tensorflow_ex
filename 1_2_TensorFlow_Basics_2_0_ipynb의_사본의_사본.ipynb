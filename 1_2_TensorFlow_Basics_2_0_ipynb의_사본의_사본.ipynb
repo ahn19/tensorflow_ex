{
  "nbformat": 4,
  "nbformat_minor": 0,
  "metadata": {
    "colab": {
      "name": "1_2.TensorFlow_Basics_2.0.ipynb의 사본의 사본",
      "provenance": [],
      "collapsed_sections": [],
      "include_colab_link": true
    },
    "language_info": {
      "codemirror_mode": {
        "name": "ipython",
        "version": 3
      },
      "file_extension": ".py",
      "mimetype": "text/x-python",
      "name": "python",
      "nbconvert_exporter": "python",
      "pygments_lexer": "ipython3",
      "version": "3.5.6"
    },
    "kernelspec": {
      "name": "python3",
      "display_name": "Python 3"
    },
    "accelerator": "GPU"
  },
  "cells": [
    {
      "cell_type": "markdown",
      "metadata": {
        "id": "view-in-github",
        "colab_type": "text"
      },
      "source": [
        "<a href=\"https://colab.research.google.com/github/ahn19/tensorflow_ex/blob/main/1_2_TensorFlow_Basics_2_0_ipynb%EC%9D%98_%EC%82%AC%EB%B3%B8%EC%9D%98_%EC%82%AC%EB%B3%B8.ipynb\" target=\"_parent\"><img src=\"https://colab.research.google.com/assets/colab-badge.svg\" alt=\"Open In Colab\"/></a>"
      ]
    },
    {
      "cell_type": "code",
      "metadata": {
        "id": "rA8CBvu7VTUZ"
      },
      "source": [
        "try:\n",
        "  # %tensorflow_version only exists in Colab.\n",
        "  %tensorflow_version 2.x # 2.x버전이후로 1.x를 쓰고 싶다면 \"%tensorflow_version 1.x\"라고 수정하면 된다. 이건 colab에서만되는 기능이다\n",
        "  # 주피터 노트북에서는 안된다.\n",
        "except Exception:\n",
        "  pass\n"
      ],
      "execution_count": 2,
      "outputs": []
    },
    {
      "cell_type": "code",
      "metadata": {
        "id": "C2saaSpvyzaA"
      },
      "source": [
        "import numpy as np\n",
        "import tensorflow as tf"
      ],
      "execution_count": 3,
      "outputs": []
    },
    {
      "cell_type": "code",
      "metadata": {
        "id": "ZzJO-3IsyzaC",
        "colab": {
          "base_uri": "https://localhost:8080/"
        },
        "outputId": "d19249d2-03f4-4d4d-a803-97be28556e9d"
      },
      "source": [
        "print (tf.__version__)"
      ],
      "execution_count": 4,
      "outputs": [
        {
          "output_type": "stream",
          "text": [
            "2.4.1\n"
          ],
          "name": "stdout"
        }
      ]
    },
    {
      "cell_type": "code",
      "metadata": {
        "id": "lL6BQmBF2rym",
        "colab": {
          "base_uri": "https://localhost:8080/"
        },
        "outputId": "651849b4-62df-46fa-ca01-856a9cc23153"
      },
      "source": [
        "tf.executing_eagerly()"
      ],
      "execution_count": 5,
      "outputs": [
        {
          "output_type": "execute_result",
          "data": {
            "text/plain": [
              "True"
            ]
          },
          "metadata": {
            "tags": []
          },
          "execution_count": 5
        }
      ]
    },
    {
      "cell_type": "markdown",
      "metadata": {
        "id": "Xow12zZgyzaE"
      },
      "source": [
        "## Defining Tensors"
      ]
    },
    {
      "cell_type": "code",
      "metadata": {
        "id": "naQ5OGBuyzaE"
      },
      "source": [
        "m1 = [[1.0, 2.0], \n",
        "      [3.0, 4.0]]\n",
        "m2 = np.array([[1.0, 2.0],\n",
        "              [3.0, 4.0]], dtype=np.float32)\n",
        "m3 = tf.constant([[1.0, 2.0],\n",
        "                 [3.0, 4.0]])"
      ],
      "execution_count": 6,
      "outputs": []
    },
    {
      "cell_type": "code",
      "metadata": {
        "id": "7TWZmsTLyzaG",
        "colab": {
          "base_uri": "https://localhost:8080/"
        },
        "outputId": "39a77a2c-8582-447c-b1f3-3d888606ee38"
      },
      "source": [
        "print(type(m1))\n",
        "print(type(m2))\n",
        "print(type(m3))"
      ],
      "execution_count": 7,
      "outputs": [
        {
          "output_type": "stream",
          "text": [
            "<class 'list'>\n",
            "<class 'numpy.ndarray'>\n",
            "<class 'tensorflow.python.framework.ops.EagerTensor'>\n"
          ],
          "name": "stdout"
        }
      ]
    },
    {
      "cell_type": "code",
      "metadata": {
        "id": "42nKive3yzaH"
      },
      "source": [
        "t1 = tf.convert_to_tensor(m1, dtype=tf.float32)\n",
        "t2 = tf.convert_to_tensor(m2, dtype=tf.float32)\n",
        "t3 = tf.convert_to_tensor(m3, dtype=tf.float32)"
      ],
      "execution_count": 8,
      "outputs": []
    },
    {
      "cell_type": "code",
      "metadata": {
        "id": "o4WISlbbyzaJ",
        "colab": {
          "base_uri": "https://localhost:8080/"
        },
        "outputId": "8adab853-fad5-46d9-e54f-bffdb60c41b2"
      },
      "source": [
        "print(type(t1))\n",
        "print(type(t2))\n",
        "print(type(t3))"
      ],
      "execution_count": 9,
      "outputs": [
        {
          "output_type": "stream",
          "text": [
            "<class 'tensorflow.python.framework.ops.EagerTensor'>\n",
            "<class 'tensorflow.python.framework.ops.EagerTensor'>\n",
            "<class 'tensorflow.python.framework.ops.EagerTensor'>\n"
          ],
          "name": "stdout"
        }
      ]
    },
    {
      "cell_type": "markdown",
      "metadata": {
        "id": "m_BM8Swh569z"
      },
      "source": [
        ""
      ]
    },
    {
      "cell_type": "code",
      "metadata": {
        "id": "zBzDUDPm57lV",
        "colab": {
          "base_uri": "https://localhost:8080/"
        },
        "outputId": "898ebd54-64f2-4ae7-ab08-9dda5d56922a"
      },
      "source": [
        "print(t1)"
      ],
      "execution_count": 10,
      "outputs": [
        {
          "output_type": "stream",
          "text": [
            "tf.Tensor(\n",
            "[[1. 2.]\n",
            " [3. 4.]], shape=(2, 2), dtype=float32)\n"
          ],
          "name": "stdout"
        }
      ]
    },
    {
      "cell_type": "markdown",
      "metadata": {
        "id": "hqzI1h7p3nbz"
      },
      "source": [
        "## Numpy Compatibility"
      ]
    },
    {
      "cell_type": "code",
      "metadata": {
        "id": "vt-JnM9U3mnc",
        "colab": {
          "base_uri": "https://localhost:8080/"
        },
        "outputId": "ee608251-7cbe-4ed3-deb9-a78df0ec9482"
      },
      "source": [
        "ndarray = np.ones([3, 3])\n",
        "\n",
        "print(\"TensorFlow operations convert numpy arrays to Tensors automatically\")\n",
        "tensor = tf.multiply(ndarray, 42)\n",
        "print(tensor)\n",
        "\n",
        "\n",
        "print(\"And NumPy operations convert Tensors to numpy arrays automatically\")\n",
        "print(np.add(tensor, 1))\n",
        "\n",
        "print(\"The .numpy() method explicitly converts a Tensor to a numpy array\")\n",
        "print(tensor.numpy())\n",
        "ndarray"
      ],
      "execution_count": 11,
      "outputs": [
        {
          "output_type": "stream",
          "text": [
            "TensorFlow operations convert numpy arrays to Tensors automatically\n",
            "tf.Tensor(\n",
            "[[42. 42. 42.]\n",
            " [42. 42. 42.]\n",
            " [42. 42. 42.]], shape=(3, 3), dtype=float64)\n",
            "And NumPy operations convert Tensors to numpy arrays automatically\n",
            "[[43. 43. 43.]\n",
            " [43. 43. 43.]\n",
            " [43. 43. 43.]]\n",
            "The .numpy() method explicitly converts a Tensor to a numpy array\n",
            "[[42. 42. 42.]\n",
            " [42. 42. 42.]\n",
            " [42. 42. 42.]]\n"
          ],
          "name": "stdout"
        },
        {
          "output_type": "execute_result",
          "data": {
            "text/plain": [
              "array([[1., 1., 1.],\n",
              "       [1., 1., 1.],\n",
              "       [1., 1., 1.]])"
            ]
          },
          "metadata": {
            "tags": []
          },
          "execution_count": 11
        }
      ]
    },
    {
      "cell_type": "markdown",
      "metadata": {
        "id": "QsfRucolyzaP"
      },
      "source": [
        "## Constants"
      ]
    },
    {
      "cell_type": "code",
      "metadata": {
        "id": "Z4SlWvgUyzaP",
        "colab": {
          "base_uri": "https://localhost:8080/"
        },
        "outputId": "5c41470b-1dc5-491c-db1c-7d96942c862d"
      },
      "source": [
        "hello = tf.constant(\"Hello World!\")\n",
        "print(hello)"
      ],
      "execution_count": 12,
      "outputs": [
        {
          "output_type": "stream",
          "text": [
            "tf.Tensor(b'Hello World!', shape=(), dtype=string)\n"
          ],
          "name": "stdout"
        }
      ]
    },
    {
      "cell_type": "code",
      "metadata": {
        "id": "d2CkpJfXyzaU",
        "colab": {
          "base_uri": "https://localhost:8080/"
        },
        "outputId": "0295c7c7-c7a1-41d2-9663-688a57950e14"
      },
      "source": [
        "a = tf.constant(1.5)\n",
        "b = tf.constant(2.5)\n",
        "print(a.numpy())\n",
        "print(b)"
      ],
      "execution_count": 13,
      "outputs": [
        {
          "output_type": "stream",
          "text": [
            "1.5\n",
            "tf.Tensor(2.5, shape=(), dtype=float32)\n"
          ],
          "name": "stdout"
        }
      ]
    },
    {
      "cell_type": "markdown",
      "metadata": {
        "id": "8p-9WIcjyzaX"
      },
      "source": [
        "## Operations\n"
      ]
    },
    {
      "cell_type": "code",
      "metadata": {
        "id": "1vSgQmhHyzaY",
        "colab": {
          "base_uri": "https://localhost:8080/"
        },
        "outputId": "b3448dc6-947b-48c7-f1c1-931e63a5a859"
      },
      "source": [
        "a_plus_b = tf.add(a, b)\n",
        "print(a_plus_b)"
      ],
      "execution_count": 14,
      "outputs": [
        {
          "output_type": "stream",
          "text": [
            "tf.Tensor(4.0, shape=(), dtype=float32)\n"
          ],
          "name": "stdout"
        }
      ]
    },
    {
      "cell_type": "code",
      "metadata": {
        "id": "7VnPHySzyzac",
        "colab": {
          "base_uri": "https://localhost:8080/"
        },
        "outputId": "84403b58-0a94-4904-f738-386063546a51"
      },
      "source": [
        "a_mul_b = tf.multiply(a, b)\n",
        "print(a_mul_b)"
      ],
      "execution_count": 15,
      "outputs": [
        {
          "output_type": "stream",
          "text": [
            "tf.Tensor(3.75, shape=(), dtype=float32)\n"
          ],
          "name": "stdout"
        }
      ]
    },
    {
      "cell_type": "markdown",
      "metadata": {
        "id": "mAq50wFvzkj_"
      },
      "source": [
        "## Variables"
      ]
    },
    {
      "cell_type": "code",
      "metadata": {
        "id": "QkvusA5vzkj9",
        "colab": {
          "base_uri": "https://localhost:8080/"
        },
        "outputId": "54177f26-19fe-45ba-bf37-3aea661a8946"
      },
      "source": [
        "weight = tf.Variable(tf.random_normal_initializer(stddev=0.1)([5, 2]))\n",
        "print(weight)"
      ],
      "execution_count": 17,
      "outputs": [
        {
          "output_type": "stream",
          "text": [
            "<tf.Variable 'Variable:0' shape=(5, 2) dtype=float32, numpy=\n",
            "array([[-0.05451545,  0.22433305],\n",
            "       [ 0.13045388,  0.05415407],\n",
            "       [ 0.11545224, -0.02186006],\n",
            "       [-0.08323954, -0.02641266],\n",
            "       [ 0.05867658, -0.02265279]], dtype=float32)>\n"
          ],
          "name": "stdout"
        }
      ]
    },
    {
      "cell_type": "markdown",
      "metadata": {
        "id": "5EQcz9OM34VC"
      },
      "source": [
        "## Create a Dataset"
      ]
    },
    {
      "cell_type": "code",
      "metadata": {
        "id": "4LhNqxUj34wZ",
        "colab": {
          "base_uri": "https://localhost:8080/"
        },
        "outputId": "3d4b5a0f-61b3-42f3-cbe2-0b4d487d44c9"
      },
      "source": [
        "a = np.arange(10)\n",
        "print(a)\n",
        "ds_tensors = tf.data.Dataset.from_tensor_slices(a)"
      ],
      "execution_count": 47,
      "outputs": [
        {
          "output_type": "stream",
          "text": [
            "[0 1 2 3 4 5 6 7 8 9]\n"
          ],
          "name": "stdout"
        }
      ]
    },
    {
      "cell_type": "markdown",
      "metadata": {
        "id": "TIAhx5Qa4A_S"
      },
      "source": [
        "## Apply Transformations"
      ]
    },
    {
      "cell_type": "code",
      "metadata": {
        "id": "az9Q6ABSvMIY",
        "outputId": "34536083-3af8-47da-eb07-4f1229887013",
        "colab": {
          "base_uri": "https://localhost:8080/"
        }
      },
      "source": [
        "ds_tensors0 = ds_tensors.map(tf.square)\r\n",
        "print(ds_tensors0)"
      ],
      "execution_count": 27,
      "outputs": [
        {
          "output_type": "stream",
          "text": [
            "<MapDataset shapes: (), types: tf.int64>\n"
          ],
          "name": "stdout"
        }
      ]
    },
    {
      "cell_type": "code",
      "metadata": {
        "id": "DsB2bHVb34_b"
      },
      "source": [
        "ds_tensors = ds_tensors.map(tf.square).shuffle(20).batch(2)\r\n",
        "# ds_tensors = ds_tensors.map(tf.square).batch(2)"
      ],
      "execution_count": 48,
      "outputs": []
    },
    {
      "cell_type": "code",
      "metadata": {
        "id": "KoTrc6Noxd4_",
        "outputId": "48530fcb-287d-4381-d1f2-b43785be7a54",
        "colab": {
          "base_uri": "https://localhost:8080/"
        }
      },
      "source": [
        "# import pdb;pdb.set_trace()\r\n",
        "np.size(ds_tensors)"
      ],
      "execution_count": 43,
      "outputs": [
        {
          "output_type": "execute_result",
          "data": {
            "text/plain": [
              "1"
            ]
          },
          "metadata": {
            "tags": []
          },
          "execution_count": 43
        }
      ]
    },
    {
      "cell_type": "markdown",
      "metadata": {
        "id": "gt4rGl-d4Uby"
      },
      "source": [
        "## Iterate"
      ]
    },
    {
      "cell_type": "code",
      "metadata": {
        "id": "yPmUEpoG4Tf8",
        "colab": {
          "base_uri": "https://localhost:8080/"
        },
        "outputId": "01b82343-4766-4459-eb28-79dd4f634b79"
      },
      "source": [
        "print('Elements of ds_tensors:')\n",
        "for _ in range(3):\n",
        "  for x in ds_tensors:\n",
        "    print(x)"
      ],
      "execution_count": 49,
      "outputs": [
        {
          "output_type": "stream",
          "text": [
            "Elements of ds_tensors:\n",
            "tf.Tensor([ 0 16], shape=(2,), dtype=int64)\n",
            "tf.Tensor([64  9], shape=(2,), dtype=int64)\n",
            "tf.Tensor([36 81], shape=(2,), dtype=int64)\n",
            "tf.Tensor([ 4 49], shape=(2,), dtype=int64)\n",
            "tf.Tensor([ 1 25], shape=(2,), dtype=int64)\n",
            "tf.Tensor([ 1 49], shape=(2,), dtype=int64)\n",
            "tf.Tensor([25 81], shape=(2,), dtype=int64)\n",
            "tf.Tensor([64 36], shape=(2,), dtype=int64)\n",
            "tf.Tensor([ 9 16], shape=(2,), dtype=int64)\n",
            "tf.Tensor([0 4], shape=(2,), dtype=int64)\n",
            "tf.Tensor([ 9 16], shape=(2,), dtype=int64)\n",
            "tf.Tensor([ 4 25], shape=(2,), dtype=int64)\n",
            "tf.Tensor([81 49], shape=(2,), dtype=int64)\n",
            "tf.Tensor([ 0 36], shape=(2,), dtype=int64)\n",
            "tf.Tensor([64  1], shape=(2,), dtype=int64)\n"
          ],
          "name": "stdout"
        }
      ]
    },
    {
      "cell_type": "code",
      "metadata": {
        "id": "Psv7hnHz4YUn"
      },
      "source": [
        ""
      ],
      "execution_count": 18,
      "outputs": []
    }
  ]
}